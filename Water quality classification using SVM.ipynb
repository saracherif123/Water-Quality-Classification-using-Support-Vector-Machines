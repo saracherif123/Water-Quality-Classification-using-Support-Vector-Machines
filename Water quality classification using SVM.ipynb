{
  "cells": [
    {
      "cell_type": "markdown",
      "metadata": {
        "id": "LMZyTnZKcpdI"
      },
      "source": [
        "# Support Vector Classifiers <img src=\"https://i.imgur.com/9y2NKWY.png\" align=\"right\" width=80/>\n",
        "\n",
        "\n",
        "This notebook serves as a practical extension to session *IV*. In this notebook, we will reiterate some of the points we covered in the session, in addition to a few more concepts. We will walk you through applying `sklearn.svm.SVC()` on the water quality dataset to predict whether or not a body of water is considered good or bad given its contents. You will be given full freedom to experiment with the model's hyperparameters. Your goal is to find the set of hyperparameters that result in the best test accuracy. You are free to apply any of the hyperparameter search methods learned in class. Do your research!\n",
        "\n",
        "At the end of this notebook you will (hopefully):\n",
        "\n",
        "*   Know the intuition behind SVMs.\n",
        "*   Know the effect of the regularization parameter C on your model.\n",
        "*   Be able to choose the right kernel for a given non-linear classification problem.\n",
        "*   know what the gamma hyperparameter is.\n",
        "*   have fun experimenting with your SVM.\n",
        "*   Be able to tune hyperparameters using grid search or randomized search (optional).\n",
        "*   Understand what a confusion matrix is.\n",
        "*   Understand precision and recall.\n",
        "*   Be able to evaluate your classifier.\n",
        "\n",
        "The dataset used in this notebook is clean and easy to work with, which is almost impossible in the real world. This notebook is concerned with the machine learning model and its evaluation, and does not delve into the other stages of the data science pipeline.<br><br>\n",
        "\n",
        "<center><img src=\"https://i.imgur.com/YO0B0Xx.png\" width=800/></center>\n",
        "\n",
        "\n"
      ]
    },
    {
      "cell_type": "markdown",
      "metadata": {
        "id": "weLqvgSf-hdV"
      },
      "source": [
        "## What Is a Support Vector Machine?\n",
        "\n",
        "<p align = \"justify\">An SVM is a non-probabilistic supervised machine learning algorithm. SVMs are  used primarily in binary (2 categories) classification, but they can be used in multi-class classification, or even regression. A support vector machine is a linear model, meaning that it requires the data to be separable by a straight line; as shown in the figure below.</p>\n",
        "\n",
        "<center><img src=\"https://i1.wp.com/cmdlinetips.com/wp-content/uploads/2021/02/Linearly_Separable_Data_Example.png?fit=539,234&ssl=1\" width=600/><br>\n",
        "Figure: linearly separable vs non-linearly separable data\n",
        "</center>"
      ]
    },
    {
      "cell_type": "markdown",
      "metadata": {
        "id": "W2_M3uwFEyG_"
      },
      "source": [
        "## How Does an SVM Discriminate? \n",
        "\n",
        "<p align = \"justify\">SVMs rely on a deterministic approach for classifying data rather than a probabilistic one. They separate the feature space and return the class associated with the space which the sample originated from, as opposed to modeling the probability distribution of the classes. To do this, SVMs try to find the hyperplane whose distance to the nearest sample of each class is the largest. Thus, ensuring that the model is not biased towards any of the classes.\n",
        "\n",
        "<center><img src=\"https://www.mdpi.com/sensors/sensors-19-05219/article_deploy/html/images/sensors-19-05219-g004-550.jpg\" width=600/>\n",
        "<br> \n",
        "Figure: possible decision boundaries(left) vs the decision boundary of an SVM (right).\n",
        "</center>\n",
        "\n",
        "As seen in the figure, some decision boundaries like those seen on the left have a higher risk of misclassifying new data, since samples may be classified as one class even though they are closer to the other. Hence why the best decision boundary is one which is not biased towards any of the classes. Furthermore, we can see that it is called a support vector machine because it depends on the samples lying on the margin (support vectors) to find the hyperplane.</p>"
      ]
    },
    {
      "cell_type": "markdown",
      "metadata": {
        "id": "sGnUs05eFo6f"
      },
      "source": [
        "## Application\n",
        "\n",
        "Now that you have some intution as to how SVMs classify, we will now move on to the practical aspect of this notebook. This section will walk you through implementing and evaluating a water quality classifier, step by step. Let's begin by familiarizing ourselves with the dataset."
      ]
    },
    {
      "cell_type": "markdown",
      "metadata": {
        "id": "t99e2-AsE9Uu"
      },
      "source": [
        "## The Water Quality Dataset\n",
        "\n",
        "<p align = \"justify\">The water_potability.csv file contains water quality metrics for 3276 different water bodies.\n",
        "\n",
        "1. pH value:\n",
        "* PH is an important parameter in evaluating the acid–base balance of water. It is also the indicator of acidic or alkaline condition of water status. WHO has recommended maximum permissible limit of pH from 6.5 to 8.5. The current investigation ranges were 6.52–6.83 which are in the range of WHO standards.\n",
        "\n",
        "2. Hardness:\n",
        "* Hardness is mainly caused by calcium and magnesium salts. These salts are dissolved from geologic deposits through which water travels. The length of time water is in contact with hardness producing material helps determine how much hardness there is in raw water. Hardness was originally defined as the capacity of water to precipitate soap caused by Calcium and Magnesium.\n",
        "\n",
        "3. Solids (Total dissolved solids - TDS):\n",
        "* Water has the ability to dissolve a wide range of inorganic and some organic minerals or salts such as potassium, calcium, sodium, bicarbonates, chlorides, magnesium, sulfates etc. These minerals produced un-wanted taste and diluted color in appearance of water. This is the important parameter for the use of water. The water with high TDS value indicates that water is highly mineralized. Desirable limit for TDS is 500 mg/l and maximum limit is 1000 mg/l which prescribed for drinking purpose.\n",
        "\n",
        "4. Chloramines:\n",
        "* Chlorine and chloramine are the major disinfectants used in public water systems. Chloramines are most commonly formed when ammonia is added to chlorine to treat drinking water. Chlorine levels up to 4 milligrams per liter (mg/L or 4 parts per million (ppm)) are considered safe in drinking water.\n",
        "\n",
        "5. Sulfate:\n",
        "* Sulfates are naturally occurring substances that are found in minerals, soil, and rocks. They are present in ambient air, groundwater, plants, and food. The principal commercial use of sulfate is in the chemical industry. Sulfate concentration in seawater is about 2,700 milligrams per liter (mg/L). It ranges from 3 to 30 mg/L in most freshwater supplies, although much higher concentrations (1000 mg/L) are found in some geographic locations.\n",
        "\n",
        "6. Conductivity:\n",
        "* Pure water is not a good conductor of electric current rather’s a good insulator. Increase in ions concentration enhances the electrical conductivity of water. Generally, the amount of dissolved solids in water determines the electrical conductivity. Electrical conductivity (EC) actually measures the ionic process of a solution that enables it to transmit current. According to WHO standards, EC value should not exceeded 400 μS/cm.\n",
        "\n",
        "7. Organic_carbon:\n",
        "* Total Organic Carbon (TOC) in source waters comes from decaying natural organic matter (NOM) as well as synthetic sources. TOC is a measure of the total amount of carbon in organic compounds in pure water. According to US EPA < 2 mg/L as TOC in treated / drinking water, and < 4 mg/Lit in source water which is use for treatment.\n",
        "\n",
        "8. Trihalomethanes:\n",
        "* THMs are chemicals which may be found in water treated with chlorine. The concentration of THMs in drinking water varies according to the level of organic material in the water, the amount of chlorine required to treat the water, and the temperature of the water that is being treated. THM levels up to 80 ppm is considered safe in drinking water.\n",
        "\n",
        "9. Turbidity:\n",
        "* The turbidity of water depends on the quantity of solid matter present in the suspended state. It is a measure of light emitting properties of water and the test is used to indicate the quality of waste discharge with respect to colloidal matter. The mean turbidity value obtained for Wondo Genet Campus (0.98 NTU) is lower than the WHO recommended value of 5.00 NTU.\n",
        "\n",
        "10. <font color=\"red\"> Potability: </font>\n",
        "* Indicates if water is safe for human consumption where 1 means Potable and 0 means Not potable.\n",
        "\n",
        "\n",
        "\n",
        "Your task is to make an SVM that tells drinkable water from undrinkable water using the other 9 attributes.</p>"
      ]
    },
    {
      "cell_type": "code",
      "source": [
        "!gdown 17uGsTbirflfJu-Jswl-COyEda1v-Hmeh\n",
        "!gdown 1ci2JihrTsAVMOiTw-93_C0BJL9pKfQST\n",
        "\\\n",
        "!gdown 1X2mI_YB353YVf1nx6Qa72qVcK1z4Gf-9"
      ],
      "metadata": {
        "id": "QQoocMOPt077",
        "outputId": "92a5172c-69f4-46b1-8d43-fd4fcf0f36ef",
        "colab": {
          "base_uri": "https://localhost:8080/"
        }
      },
      "execution_count": null,
      "outputs": [
        {
          "output_type": "stream",
          "name": "stdout",
          "text": [
            "Downloading...\n",
            "From: https://drive.google.com/uc?id=17uGsTbirflfJu-Jswl-COyEda1v-Hmeh\n",
            "To: /content/water_train.csv\n",
            "100% 364k/364k [00:00<00:00, 108MB/s]\n",
            "Downloading...\n",
            "From: https://drive.google.com/uc?id=1ci2JihrTsAVMOiTw-93_C0BJL9pKfQST\n",
            "To: /content/water_test.csv\n",
            "100% 158k/158k [00:00<00:00, 83.0MB/s]\n",
            "Downloading...\n",
            "From: https://drive.google.com/uc?id=1X2mI_YB353YVf1nx6Qa72qVcK1z4Gf-9\n",
            "To: /content/sample_submission.csv\n",
            "100% 6.56k/6.56k [00:00<00:00, 12.4MB/s]\n"
          ]
        }
      ]
    },
    {
      "cell_type": "code",
      "metadata": {
        "id": "XcYBDzmQb1ku"
      },
      "source": [
        "import pandas as pd\n",
        "import numpy as np\n",
        "import seaborn as sns\n",
        "import matplotlib.pyplot as plt\n",
        "from sklearn.model_selection import train_test_split\n",
        "from sklearn.preprocessing import MinMaxScaler\n",
        "from sklearn.impute import SimpleImputer\n",
        "from sklearn.svm import SVC\n",
        "from sklearn.model_selection import StratifiedKFold\n",
        "from sklearn.model_selection import RandomizedSearchCV\n",
        "from sklearn.model_selection import GridSearchCV\n",
        "from sklearn import metrics\n"
      ],
      "execution_count": null,
      "outputs": []
    },
    {
      "cell_type": "markdown",
      "metadata": {
        "id": "tAijDZOdcMNV"
      },
      "source": [
        "<mark>Task: Read the *water_train.csv* file to a variable called train_df and *water_test.csv* to a variable called test_df. Show the first 5 samples of the train_df dataset to get a sense of what our data looks like.\n",
        "</mark>"
      ]
    },
    {
      "cell_type": "code",
      "metadata": {
        "id": "15Ijj-gnijkr",
        "outputId": "ea52f723-295d-4849-d5ec-c4566342d0bf",
        "colab": {
          "base_uri": "https://localhost:8080/",
          "height": 206
        }
      },
      "source": [
        "train_df = pd.read_csv('water_train.csv')\n",
        "test_df = pd.read_csv('water_test.csv')\n",
        "train_df.head(5)\n"
      ],
      "execution_count": null,
      "outputs": [
        {
          "output_type": "execute_result",
          "data": {
            "text/plain": [
              "          ph    Hardness        Solids  Chloramines     Sulfate  Conductivity  \\\n",
              "0   8.040392  200.637576  12999.144804     6.696356  356.870041    394.017732   \n",
              "1   7.344976  182.306942   5689.804405     6.764350  373.872785    360.184473   \n",
              "2   8.447404  163.949905  19583.057349     6.433184  334.655886    547.023830   \n",
              "3  10.386133  200.891192  17982.387256     5.845502  338.999274    336.279707   \n",
              "4   9.011480  167.918922  34865.357682     3.139553  400.691774    385.409608   \n",
              "\n",
              "   Organic_carbon  Trihalomethanes  Turbidity  Potability  \n",
              "0       11.100407        43.625910   3.017796           0  \n",
              "1       20.483902        73.488981   3.418763           0  \n",
              "2       18.238711        45.668318   5.218307           1  \n",
              "3       14.319411        62.156686   4.921341           0  \n",
              "4       16.574190        50.526551   4.270801           0  "
            ],
            "text/html": [
              "\n",
              "  <div id=\"df-b5458f1e-dd7f-4164-8df1-77b5d7a36f06\">\n",
              "    <div class=\"colab-df-container\">\n",
              "      <div>\n",
              "<style scoped>\n",
              "    .dataframe tbody tr th:only-of-type {\n",
              "        vertical-align: middle;\n",
              "    }\n",
              "\n",
              "    .dataframe tbody tr th {\n",
              "        vertical-align: top;\n",
              "    }\n",
              "\n",
              "    .dataframe thead th {\n",
              "        text-align: right;\n",
              "    }\n",
              "</style>\n",
              "<table border=\"1\" class=\"dataframe\">\n",
              "  <thead>\n",
              "    <tr style=\"text-align: right;\">\n",
              "      <th></th>\n",
              "      <th>ph</th>\n",
              "      <th>Hardness</th>\n",
              "      <th>Solids</th>\n",
              "      <th>Chloramines</th>\n",
              "      <th>Sulfate</th>\n",
              "      <th>Conductivity</th>\n",
              "      <th>Organic_carbon</th>\n",
              "      <th>Trihalomethanes</th>\n",
              "      <th>Turbidity</th>\n",
              "      <th>Potability</th>\n",
              "    </tr>\n",
              "  </thead>\n",
              "  <tbody>\n",
              "    <tr>\n",
              "      <th>0</th>\n",
              "      <td>8.040392</td>\n",
              "      <td>200.637576</td>\n",
              "      <td>12999.144804</td>\n",
              "      <td>6.696356</td>\n",
              "      <td>356.870041</td>\n",
              "      <td>394.017732</td>\n",
              "      <td>11.100407</td>\n",
              "      <td>43.625910</td>\n",
              "      <td>3.017796</td>\n",
              "      <td>0</td>\n",
              "    </tr>\n",
              "    <tr>\n",
              "      <th>1</th>\n",
              "      <td>7.344976</td>\n",
              "      <td>182.306942</td>\n",
              "      <td>5689.804405</td>\n",
              "      <td>6.764350</td>\n",
              "      <td>373.872785</td>\n",
              "      <td>360.184473</td>\n",
              "      <td>20.483902</td>\n",
              "      <td>73.488981</td>\n",
              "      <td>3.418763</td>\n",
              "      <td>0</td>\n",
              "    </tr>\n",
              "    <tr>\n",
              "      <th>2</th>\n",
              "      <td>8.447404</td>\n",
              "      <td>163.949905</td>\n",
              "      <td>19583.057349</td>\n",
              "      <td>6.433184</td>\n",
              "      <td>334.655886</td>\n",
              "      <td>547.023830</td>\n",
              "      <td>18.238711</td>\n",
              "      <td>45.668318</td>\n",
              "      <td>5.218307</td>\n",
              "      <td>1</td>\n",
              "    </tr>\n",
              "    <tr>\n",
              "      <th>3</th>\n",
              "      <td>10.386133</td>\n",
              "      <td>200.891192</td>\n",
              "      <td>17982.387256</td>\n",
              "      <td>5.845502</td>\n",
              "      <td>338.999274</td>\n",
              "      <td>336.279707</td>\n",
              "      <td>14.319411</td>\n",
              "      <td>62.156686</td>\n",
              "      <td>4.921341</td>\n",
              "      <td>0</td>\n",
              "    </tr>\n",
              "    <tr>\n",
              "      <th>4</th>\n",
              "      <td>9.011480</td>\n",
              "      <td>167.918922</td>\n",
              "      <td>34865.357682</td>\n",
              "      <td>3.139553</td>\n",
              "      <td>400.691774</td>\n",
              "      <td>385.409608</td>\n",
              "      <td>16.574190</td>\n",
              "      <td>50.526551</td>\n",
              "      <td>4.270801</td>\n",
              "      <td>0</td>\n",
              "    </tr>\n",
              "  </tbody>\n",
              "</table>\n",
              "</div>\n",
              "      <button class=\"colab-df-convert\" onclick=\"convertToInteractive('df-b5458f1e-dd7f-4164-8df1-77b5d7a36f06')\"\n",
              "              title=\"Convert this dataframe to an interactive table.\"\n",
              "              style=\"display:none;\">\n",
              "        \n",
              "  <svg xmlns=\"http://www.w3.org/2000/svg\" height=\"24px\"viewBox=\"0 0 24 24\"\n",
              "       width=\"24px\">\n",
              "    <path d=\"M0 0h24v24H0V0z\" fill=\"none\"/>\n",
              "    <path d=\"M18.56 5.44l.94 2.06.94-2.06 2.06-.94-2.06-.94-.94-2.06-.94 2.06-2.06.94zm-11 1L8.5 8.5l.94-2.06 2.06-.94-2.06-.94L8.5 2.5l-.94 2.06-2.06.94zm10 10l.94 2.06.94-2.06 2.06-.94-2.06-.94-.94-2.06-.94 2.06-2.06.94z\"/><path d=\"M17.41 7.96l-1.37-1.37c-.4-.4-.92-.59-1.43-.59-.52 0-1.04.2-1.43.59L10.3 9.45l-7.72 7.72c-.78.78-.78 2.05 0 2.83L4 21.41c.39.39.9.59 1.41.59.51 0 1.02-.2 1.41-.59l7.78-7.78 2.81-2.81c.8-.78.8-2.07 0-2.86zM5.41 20L4 18.59l7.72-7.72 1.47 1.35L5.41 20z\"/>\n",
              "  </svg>\n",
              "      </button>\n",
              "      \n",
              "  <style>\n",
              "    .colab-df-container {\n",
              "      display:flex;\n",
              "      flex-wrap:wrap;\n",
              "      gap: 12px;\n",
              "    }\n",
              "\n",
              "    .colab-df-convert {\n",
              "      background-color: #E8F0FE;\n",
              "      border: none;\n",
              "      border-radius: 50%;\n",
              "      cursor: pointer;\n",
              "      display: none;\n",
              "      fill: #1967D2;\n",
              "      height: 32px;\n",
              "      padding: 0 0 0 0;\n",
              "      width: 32px;\n",
              "    }\n",
              "\n",
              "    .colab-df-convert:hover {\n",
              "      background-color: #E2EBFA;\n",
              "      box-shadow: 0px 1px 2px rgba(60, 64, 67, 0.3), 0px 1px 3px 1px rgba(60, 64, 67, 0.15);\n",
              "      fill: #174EA6;\n",
              "    }\n",
              "\n",
              "    [theme=dark] .colab-df-convert {\n",
              "      background-color: #3B4455;\n",
              "      fill: #D2E3FC;\n",
              "    }\n",
              "\n",
              "    [theme=dark] .colab-df-convert:hover {\n",
              "      background-color: #434B5C;\n",
              "      box-shadow: 0px 1px 3px 1px rgba(0, 0, 0, 0.15);\n",
              "      filter: drop-shadow(0px 1px 2px rgba(0, 0, 0, 0.3));\n",
              "      fill: #FFFFFF;\n",
              "    }\n",
              "  </style>\n",
              "\n",
              "      <script>\n",
              "        const buttonEl =\n",
              "          document.querySelector('#df-b5458f1e-dd7f-4164-8df1-77b5d7a36f06 button.colab-df-convert');\n",
              "        buttonEl.style.display =\n",
              "          google.colab.kernel.accessAllowed ? 'block' : 'none';\n",
              "\n",
              "        async function convertToInteractive(key) {\n",
              "          const element = document.querySelector('#df-b5458f1e-dd7f-4164-8df1-77b5d7a36f06');\n",
              "          const dataTable =\n",
              "            await google.colab.kernel.invokeFunction('convertToInteractive',\n",
              "                                                     [key], {});\n",
              "          if (!dataTable) return;\n",
              "\n",
              "          const docLinkHtml = 'Like what you see? Visit the ' +\n",
              "            '<a target=\"_blank\" href=https://colab.research.google.com/notebooks/data_table.ipynb>data table notebook</a>'\n",
              "            + ' to learn more about interactive tables.';\n",
              "          element.innerHTML = '';\n",
              "          dataTable['output_type'] = 'display_data';\n",
              "          await google.colab.output.renderOutput(dataTable, element);\n",
              "          const docLink = document.createElement('div');\n",
              "          docLink.innerHTML = docLinkHtml;\n",
              "          element.appendChild(docLink);\n",
              "        }\n",
              "      </script>\n",
              "    </div>\n",
              "  </div>\n",
              "  "
            ]
          },
          "metadata": {},
          "execution_count": 3
        }
      ]
    },
    {
      "cell_type": "markdown",
      "metadata": {
        "id": "3y407rjyQr-9"
      },
      "source": [
        "---"
      ]
    },
    {
      "cell_type": "markdown",
      "metadata": {
        "id": "q7J1BW2zcnL8"
      },
      "source": [
        "<mark>Task: Show a statistical summary of train_df.</mark>"
      ]
    },
    {
      "cell_type": "code",
      "metadata": {
        "id": "WI1BE_9Pfjy9",
        "outputId": "c3e741a9-3d73-4837-d1ff-7c4ec5ee39f7",
        "colab": {
          "base_uri": "https://localhost:8080/"
        }
      },
      "source": [
        "train_df.info()"
      ],
      "execution_count": null,
      "outputs": [
        {
          "output_type": "stream",
          "name": "stdout",
          "text": [
            "<class 'pandas.core.frame.DataFrame'>\n",
            "RangeIndex: 2293 entries, 0 to 2292\n",
            "Data columns (total 10 columns):\n",
            " #   Column           Non-Null Count  Dtype  \n",
            "---  ------           --------------  -----  \n",
            " 0   ph               1959 non-null   float64\n",
            " 1   Hardness         2293 non-null   float64\n",
            " 2   Solids           2293 non-null   float64\n",
            " 3   Chloramines      2293 non-null   float64\n",
            " 4   Sulfate          1759 non-null   float64\n",
            " 5   Conductivity     2293 non-null   float64\n",
            " 6   Organic_carbon   2293 non-null   float64\n",
            " 7   Trihalomethanes  2175 non-null   float64\n",
            " 8   Turbidity        2293 non-null   float64\n",
            " 9   Potability       2293 non-null   int64  \n",
            "dtypes: float64(9), int64(1)\n",
            "memory usage: 179.3 KB\n"
          ]
        }
      ]
    },
    {
      "cell_type": "markdown",
      "metadata": {
        "id": "5fj0cXFnQ5qc"
      },
      "source": [
        "---"
      ]
    },
    {
      "cell_type": "code",
      "source": [
        "train_df.describe()\n"
      ],
      "metadata": {
        "id": "cTWBn1mz5Aph",
        "outputId": "55239e4f-6ae4-4651-9b85-4839fe4686ac",
        "colab": {
          "base_uri": "https://localhost:8080/",
          "height": 364
        }
      },
      "execution_count": null,
      "outputs": [
        {
          "output_type": "execute_result",
          "data": {
            "text/plain": [
              "                ph     Hardness        Solids  Chloramines      Sulfate  \\\n",
              "count  1959.000000  2293.000000   2293.000000  2293.000000  1759.000000   \n",
              "mean      7.062583   196.441433  22080.919968     7.103711   334.020701   \n",
              "std       1.635477    33.137162   8796.359003     1.616028    41.476643   \n",
              "min       0.000000    73.492234    728.750830     0.352000   129.000000   \n",
              "25%       6.069490   175.982447  15758.740621     6.106567   307.878421   \n",
              "50%       7.022952   196.615992  21035.106855     7.116897   333.499203   \n",
              "75%       8.059373   216.762159  27267.981861     8.105638   360.219048   \n",
              "max      14.000000   317.338124  61227.196008    13.043806   481.030642   \n",
              "\n",
              "       Conductivity  Organic_carbon  Trihalomethanes    Turbidity   Potability  \n",
              "count   2293.000000     2293.000000      2175.000000  2293.000000  2293.000000  \n",
              "mean     427.332102       14.208704        66.169554     3.974248     0.390318  \n",
              "std       80.872468        3.229233        16.402546     0.794813     0.487928  \n",
              "min      181.483754        4.466772         0.738000     1.450000     0.000000  \n",
              "25%      367.988784       12.053627        55.294253     3.440859     0.000000  \n",
              "50%      423.736784       14.136699        66.087038     3.954715     0.000000  \n",
              "75%      481.318803       16.381195        77.229565     4.508705     1.000000  \n",
              "max      753.342620       27.006707       120.030077     6.739000     1.000000  "
            ],
            "text/html": [
              "\n",
              "  <div id=\"df-7deee845-ab42-4c62-a506-3175041204df\">\n",
              "    <div class=\"colab-df-container\">\n",
              "      <div>\n",
              "<style scoped>\n",
              "    .dataframe tbody tr th:only-of-type {\n",
              "        vertical-align: middle;\n",
              "    }\n",
              "\n",
              "    .dataframe tbody tr th {\n",
              "        vertical-align: top;\n",
              "    }\n",
              "\n",
              "    .dataframe thead th {\n",
              "        text-align: right;\n",
              "    }\n",
              "</style>\n",
              "<table border=\"1\" class=\"dataframe\">\n",
              "  <thead>\n",
              "    <tr style=\"text-align: right;\">\n",
              "      <th></th>\n",
              "      <th>ph</th>\n",
              "      <th>Hardness</th>\n",
              "      <th>Solids</th>\n",
              "      <th>Chloramines</th>\n",
              "      <th>Sulfate</th>\n",
              "      <th>Conductivity</th>\n",
              "      <th>Organic_carbon</th>\n",
              "      <th>Trihalomethanes</th>\n",
              "      <th>Turbidity</th>\n",
              "      <th>Potability</th>\n",
              "    </tr>\n",
              "  </thead>\n",
              "  <tbody>\n",
              "    <tr>\n",
              "      <th>count</th>\n",
              "      <td>1959.000000</td>\n",
              "      <td>2293.000000</td>\n",
              "      <td>2293.000000</td>\n",
              "      <td>2293.000000</td>\n",
              "      <td>1759.000000</td>\n",
              "      <td>2293.000000</td>\n",
              "      <td>2293.000000</td>\n",
              "      <td>2175.000000</td>\n",
              "      <td>2293.000000</td>\n",
              "      <td>2293.000000</td>\n",
              "    </tr>\n",
              "    <tr>\n",
              "      <th>mean</th>\n",
              "      <td>7.062583</td>\n",
              "      <td>196.441433</td>\n",
              "      <td>22080.919968</td>\n",
              "      <td>7.103711</td>\n",
              "      <td>334.020701</td>\n",
              "      <td>427.332102</td>\n",
              "      <td>14.208704</td>\n",
              "      <td>66.169554</td>\n",
              "      <td>3.974248</td>\n",
              "      <td>0.390318</td>\n",
              "    </tr>\n",
              "    <tr>\n",
              "      <th>std</th>\n",
              "      <td>1.635477</td>\n",
              "      <td>33.137162</td>\n",
              "      <td>8796.359003</td>\n",
              "      <td>1.616028</td>\n",
              "      <td>41.476643</td>\n",
              "      <td>80.872468</td>\n",
              "      <td>3.229233</td>\n",
              "      <td>16.402546</td>\n",
              "      <td>0.794813</td>\n",
              "      <td>0.487928</td>\n",
              "    </tr>\n",
              "    <tr>\n",
              "      <th>min</th>\n",
              "      <td>0.000000</td>\n",
              "      <td>73.492234</td>\n",
              "      <td>728.750830</td>\n",
              "      <td>0.352000</td>\n",
              "      <td>129.000000</td>\n",
              "      <td>181.483754</td>\n",
              "      <td>4.466772</td>\n",
              "      <td>0.738000</td>\n",
              "      <td>1.450000</td>\n",
              "      <td>0.000000</td>\n",
              "    </tr>\n",
              "    <tr>\n",
              "      <th>25%</th>\n",
              "      <td>6.069490</td>\n",
              "      <td>175.982447</td>\n",
              "      <td>15758.740621</td>\n",
              "      <td>6.106567</td>\n",
              "      <td>307.878421</td>\n",
              "      <td>367.988784</td>\n",
              "      <td>12.053627</td>\n",
              "      <td>55.294253</td>\n",
              "      <td>3.440859</td>\n",
              "      <td>0.000000</td>\n",
              "    </tr>\n",
              "    <tr>\n",
              "      <th>50%</th>\n",
              "      <td>7.022952</td>\n",
              "      <td>196.615992</td>\n",
              "      <td>21035.106855</td>\n",
              "      <td>7.116897</td>\n",
              "      <td>333.499203</td>\n",
              "      <td>423.736784</td>\n",
              "      <td>14.136699</td>\n",
              "      <td>66.087038</td>\n",
              "      <td>3.954715</td>\n",
              "      <td>0.000000</td>\n",
              "    </tr>\n",
              "    <tr>\n",
              "      <th>75%</th>\n",
              "      <td>8.059373</td>\n",
              "      <td>216.762159</td>\n",
              "      <td>27267.981861</td>\n",
              "      <td>8.105638</td>\n",
              "      <td>360.219048</td>\n",
              "      <td>481.318803</td>\n",
              "      <td>16.381195</td>\n",
              "      <td>77.229565</td>\n",
              "      <td>4.508705</td>\n",
              "      <td>1.000000</td>\n",
              "    </tr>\n",
              "    <tr>\n",
              "      <th>max</th>\n",
              "      <td>14.000000</td>\n",
              "      <td>317.338124</td>\n",
              "      <td>61227.196008</td>\n",
              "      <td>13.043806</td>\n",
              "      <td>481.030642</td>\n",
              "      <td>753.342620</td>\n",
              "      <td>27.006707</td>\n",
              "      <td>120.030077</td>\n",
              "      <td>6.739000</td>\n",
              "      <td>1.000000</td>\n",
              "    </tr>\n",
              "  </tbody>\n",
              "</table>\n",
              "</div>\n",
              "      <button class=\"colab-df-convert\" onclick=\"convertToInteractive('df-7deee845-ab42-4c62-a506-3175041204df')\"\n",
              "              title=\"Convert this dataframe to an interactive table.\"\n",
              "              style=\"display:none;\">\n",
              "        \n",
              "  <svg xmlns=\"http://www.w3.org/2000/svg\" height=\"24px\"viewBox=\"0 0 24 24\"\n",
              "       width=\"24px\">\n",
              "    <path d=\"M0 0h24v24H0V0z\" fill=\"none\"/>\n",
              "    <path d=\"M18.56 5.44l.94 2.06.94-2.06 2.06-.94-2.06-.94-.94-2.06-.94 2.06-2.06.94zm-11 1L8.5 8.5l.94-2.06 2.06-.94-2.06-.94L8.5 2.5l-.94 2.06-2.06.94zm10 10l.94 2.06.94-2.06 2.06-.94-2.06-.94-.94-2.06-.94 2.06-2.06.94z\"/><path d=\"M17.41 7.96l-1.37-1.37c-.4-.4-.92-.59-1.43-.59-.52 0-1.04.2-1.43.59L10.3 9.45l-7.72 7.72c-.78.78-.78 2.05 0 2.83L4 21.41c.39.39.9.59 1.41.59.51 0 1.02-.2 1.41-.59l7.78-7.78 2.81-2.81c.8-.78.8-2.07 0-2.86zM5.41 20L4 18.59l7.72-7.72 1.47 1.35L5.41 20z\"/>\n",
              "  </svg>\n",
              "      </button>\n",
              "      \n",
              "  <style>\n",
              "    .colab-df-container {\n",
              "      display:flex;\n",
              "      flex-wrap:wrap;\n",
              "      gap: 12px;\n",
              "    }\n",
              "\n",
              "    .colab-df-convert {\n",
              "      background-color: #E8F0FE;\n",
              "      border: none;\n",
              "      border-radius: 50%;\n",
              "      cursor: pointer;\n",
              "      display: none;\n",
              "      fill: #1967D2;\n",
              "      height: 32px;\n",
              "      padding: 0 0 0 0;\n",
              "      width: 32px;\n",
              "    }\n",
              "\n",
              "    .colab-df-convert:hover {\n",
              "      background-color: #E2EBFA;\n",
              "      box-shadow: 0px 1px 2px rgba(60, 64, 67, 0.3), 0px 1px 3px 1px rgba(60, 64, 67, 0.15);\n",
              "      fill: #174EA6;\n",
              "    }\n",
              "\n",
              "    [theme=dark] .colab-df-convert {\n",
              "      background-color: #3B4455;\n",
              "      fill: #D2E3FC;\n",
              "    }\n",
              "\n",
              "    [theme=dark] .colab-df-convert:hover {\n",
              "      background-color: #434B5C;\n",
              "      box-shadow: 0px 1px 3px 1px rgba(0, 0, 0, 0.15);\n",
              "      filter: drop-shadow(0px 1px 2px rgba(0, 0, 0, 0.3));\n",
              "      fill: #FFFFFF;\n",
              "    }\n",
              "  </style>\n",
              "\n",
              "      <script>\n",
              "        const buttonEl =\n",
              "          document.querySelector('#df-7deee845-ab42-4c62-a506-3175041204df button.colab-df-convert');\n",
              "        buttonEl.style.display =\n",
              "          google.colab.kernel.accessAllowed ? 'block' : 'none';\n",
              "\n",
              "        async function convertToInteractive(key) {\n",
              "          const element = document.querySelector('#df-7deee845-ab42-4c62-a506-3175041204df');\n",
              "          const dataTable =\n",
              "            await google.colab.kernel.invokeFunction('convertToInteractive',\n",
              "                                                     [key], {});\n",
              "          if (!dataTable) return;\n",
              "\n",
              "          const docLinkHtml = 'Like what you see? Visit the ' +\n",
              "            '<a target=\"_blank\" href=https://colab.research.google.com/notebooks/data_table.ipynb>data table notebook</a>'\n",
              "            + ' to learn more about interactive tables.';\n",
              "          element.innerHTML = '';\n",
              "          dataTable['output_type'] = 'display_data';\n",
              "          await google.colab.output.renderOutput(dataTable, element);\n",
              "          const docLink = document.createElement('div');\n",
              "          docLink.innerHTML = docLinkHtml;\n",
              "          element.appendChild(docLink);\n",
              "        }\n",
              "      </script>\n",
              "    </div>\n",
              "  </div>\n",
              "  "
            ]
          },
          "metadata": {},
          "execution_count": 5
        }
      ]
    },
    {
      "cell_type": "markdown",
      "metadata": {
        "id": "tX8v5-EhvbLg"
      },
      "source": [
        "<mark>Task: Show the sum of NaN values in each column of train_df.</mark>"
      ]
    },
    {
      "cell_type": "code",
      "metadata": {
        "id": "5q8YGw9TvbLh",
        "outputId": "80c57a86-0526-4687-cb49-8cd3ffc154a0",
        "colab": {
          "base_uri": "https://localhost:8080/"
        }
      },
      "source": [
        "train_df.isna().sum()"
      ],
      "execution_count": null,
      "outputs": [
        {
          "output_type": "execute_result",
          "data": {
            "text/plain": [
              "ph                 334\n",
              "Hardness             0\n",
              "Solids               0\n",
              "Chloramines          0\n",
              "Sulfate            534\n",
              "Conductivity         0\n",
              "Organic_carbon       0\n",
              "Trihalomethanes    118\n",
              "Turbidity            0\n",
              "Potability           0\n",
              "dtype: int64"
            ]
          },
          "metadata": {},
          "execution_count": 6
        }
      ]
    },
    {
      "cell_type": "markdown",
      "metadata": {
        "id": "GbsihBKAvbLh"
      },
      "source": [
        "---"
      ]
    },
    {
      "cell_type": "markdown",
      "metadata": {
        "id": "kWkof8h8fBEC"
      },
      "source": [
        "<mark>Task: Store train_df without the *Potability* column in a variable called X_train. Store the Potability column in a variable called y_train. Store the test set without the *id* column in a variable called X_test.</mark>"
      ]
    },
    {
      "cell_type": "code",
      "source": [
        "test_df.head(5)"
      ],
      "metadata": {
        "id": "DMyY9tsO6eP9",
        "outputId": "f4a99f12-fd9f-407e-dbc3-2aea7e641be9",
        "colab": {
          "base_uri": "https://localhost:8080/",
          "height": 206
        }
      },
      "execution_count": null,
      "outputs": [
        {
          "output_type": "execute_result",
          "data": {
            "text/plain": [
              "     id        ph    Hardness        Solids  Chloramines     Sulfate  \\\n",
              "0   926  8.846282  188.415001  17734.949625     6.057868  317.150545   \n",
              "1   959  6.138785  158.422129  20129.978820     6.812143  352.229961   \n",
              "2  1844  9.393892  252.739248  13150.207459     7.166592         NaN   \n",
              "3  1054  5.961302  182.108995  23926.078825     6.188790  364.975499   \n",
              "4   484  6.139743  168.444214  23894.136010     9.494582  318.026087   \n",
              "\n",
              "   Conductivity  Organic_carbon  Trihalomethanes  Turbidity  \n",
              "0    419.395569       17.115447        60.251578   2.925038  \n",
              "1    373.843620       13.417813        80.731097   4.677290  \n",
              "2    368.834604       14.397393        50.775293   3.048566  \n",
              "3    567.526159        7.791638        58.174825   4.919585  \n",
              "4    494.129125       19.116022        60.264767   3.841222  "
            ],
            "text/html": [
              "\n",
              "  <div id=\"df-9952ffe5-4aa0-4dfa-b2de-12052712f8a1\">\n",
              "    <div class=\"colab-df-container\">\n",
              "      <div>\n",
              "<style scoped>\n",
              "    .dataframe tbody tr th:only-of-type {\n",
              "        vertical-align: middle;\n",
              "    }\n",
              "\n",
              "    .dataframe tbody tr th {\n",
              "        vertical-align: top;\n",
              "    }\n",
              "\n",
              "    .dataframe thead th {\n",
              "        text-align: right;\n",
              "    }\n",
              "</style>\n",
              "<table border=\"1\" class=\"dataframe\">\n",
              "  <thead>\n",
              "    <tr style=\"text-align: right;\">\n",
              "      <th></th>\n",
              "      <th>id</th>\n",
              "      <th>ph</th>\n",
              "      <th>Hardness</th>\n",
              "      <th>Solids</th>\n",
              "      <th>Chloramines</th>\n",
              "      <th>Sulfate</th>\n",
              "      <th>Conductivity</th>\n",
              "      <th>Organic_carbon</th>\n",
              "      <th>Trihalomethanes</th>\n",
              "      <th>Turbidity</th>\n",
              "    </tr>\n",
              "  </thead>\n",
              "  <tbody>\n",
              "    <tr>\n",
              "      <th>0</th>\n",
              "      <td>926</td>\n",
              "      <td>8.846282</td>\n",
              "      <td>188.415001</td>\n",
              "      <td>17734.949625</td>\n",
              "      <td>6.057868</td>\n",
              "      <td>317.150545</td>\n",
              "      <td>419.395569</td>\n",
              "      <td>17.115447</td>\n",
              "      <td>60.251578</td>\n",
              "      <td>2.925038</td>\n",
              "    </tr>\n",
              "    <tr>\n",
              "      <th>1</th>\n",
              "      <td>959</td>\n",
              "      <td>6.138785</td>\n",
              "      <td>158.422129</td>\n",
              "      <td>20129.978820</td>\n",
              "      <td>6.812143</td>\n",
              "      <td>352.229961</td>\n",
              "      <td>373.843620</td>\n",
              "      <td>13.417813</td>\n",
              "      <td>80.731097</td>\n",
              "      <td>4.677290</td>\n",
              "    </tr>\n",
              "    <tr>\n",
              "      <th>2</th>\n",
              "      <td>1844</td>\n",
              "      <td>9.393892</td>\n",
              "      <td>252.739248</td>\n",
              "      <td>13150.207459</td>\n",
              "      <td>7.166592</td>\n",
              "      <td>NaN</td>\n",
              "      <td>368.834604</td>\n",
              "      <td>14.397393</td>\n",
              "      <td>50.775293</td>\n",
              "      <td>3.048566</td>\n",
              "    </tr>\n",
              "    <tr>\n",
              "      <th>3</th>\n",
              "      <td>1054</td>\n",
              "      <td>5.961302</td>\n",
              "      <td>182.108995</td>\n",
              "      <td>23926.078825</td>\n",
              "      <td>6.188790</td>\n",
              "      <td>364.975499</td>\n",
              "      <td>567.526159</td>\n",
              "      <td>7.791638</td>\n",
              "      <td>58.174825</td>\n",
              "      <td>4.919585</td>\n",
              "    </tr>\n",
              "    <tr>\n",
              "      <th>4</th>\n",
              "      <td>484</td>\n",
              "      <td>6.139743</td>\n",
              "      <td>168.444214</td>\n",
              "      <td>23894.136010</td>\n",
              "      <td>9.494582</td>\n",
              "      <td>318.026087</td>\n",
              "      <td>494.129125</td>\n",
              "      <td>19.116022</td>\n",
              "      <td>60.264767</td>\n",
              "      <td>3.841222</td>\n",
              "    </tr>\n",
              "  </tbody>\n",
              "</table>\n",
              "</div>\n",
              "      <button class=\"colab-df-convert\" onclick=\"convertToInteractive('df-9952ffe5-4aa0-4dfa-b2de-12052712f8a1')\"\n",
              "              title=\"Convert this dataframe to an interactive table.\"\n",
              "              style=\"display:none;\">\n",
              "        \n",
              "  <svg xmlns=\"http://www.w3.org/2000/svg\" height=\"24px\"viewBox=\"0 0 24 24\"\n",
              "       width=\"24px\">\n",
              "    <path d=\"M0 0h24v24H0V0z\" fill=\"none\"/>\n",
              "    <path d=\"M18.56 5.44l.94 2.06.94-2.06 2.06-.94-2.06-.94-.94-2.06-.94 2.06-2.06.94zm-11 1L8.5 8.5l.94-2.06 2.06-.94-2.06-.94L8.5 2.5l-.94 2.06-2.06.94zm10 10l.94 2.06.94-2.06 2.06-.94-2.06-.94-.94-2.06-.94 2.06-2.06.94z\"/><path d=\"M17.41 7.96l-1.37-1.37c-.4-.4-.92-.59-1.43-.59-.52 0-1.04.2-1.43.59L10.3 9.45l-7.72 7.72c-.78.78-.78 2.05 0 2.83L4 21.41c.39.39.9.59 1.41.59.51 0 1.02-.2 1.41-.59l7.78-7.78 2.81-2.81c.8-.78.8-2.07 0-2.86zM5.41 20L4 18.59l7.72-7.72 1.47 1.35L5.41 20z\"/>\n",
              "  </svg>\n",
              "      </button>\n",
              "      \n",
              "  <style>\n",
              "    .colab-df-container {\n",
              "      display:flex;\n",
              "      flex-wrap:wrap;\n",
              "      gap: 12px;\n",
              "    }\n",
              "\n",
              "    .colab-df-convert {\n",
              "      background-color: #E8F0FE;\n",
              "      border: none;\n",
              "      border-radius: 50%;\n",
              "      cursor: pointer;\n",
              "      display: none;\n",
              "      fill: #1967D2;\n",
              "      height: 32px;\n",
              "      padding: 0 0 0 0;\n",
              "      width: 32px;\n",
              "    }\n",
              "\n",
              "    .colab-df-convert:hover {\n",
              "      background-color: #E2EBFA;\n",
              "      box-shadow: 0px 1px 2px rgba(60, 64, 67, 0.3), 0px 1px 3px 1px rgba(60, 64, 67, 0.15);\n",
              "      fill: #174EA6;\n",
              "    }\n",
              "\n",
              "    [theme=dark] .colab-df-convert {\n",
              "      background-color: #3B4455;\n",
              "      fill: #D2E3FC;\n",
              "    }\n",
              "\n",
              "    [theme=dark] .colab-df-convert:hover {\n",
              "      background-color: #434B5C;\n",
              "      box-shadow: 0px 1px 3px 1px rgba(0, 0, 0, 0.15);\n",
              "      filter: drop-shadow(0px 1px 2px rgba(0, 0, 0, 0.3));\n",
              "      fill: #FFFFFF;\n",
              "    }\n",
              "  </style>\n",
              "\n",
              "      <script>\n",
              "        const buttonEl =\n",
              "          document.querySelector('#df-9952ffe5-4aa0-4dfa-b2de-12052712f8a1 button.colab-df-convert');\n",
              "        buttonEl.style.display =\n",
              "          google.colab.kernel.accessAllowed ? 'block' : 'none';\n",
              "\n",
              "        async function convertToInteractive(key) {\n",
              "          const element = document.querySelector('#df-9952ffe5-4aa0-4dfa-b2de-12052712f8a1');\n",
              "          const dataTable =\n",
              "            await google.colab.kernel.invokeFunction('convertToInteractive',\n",
              "                                                     [key], {});\n",
              "          if (!dataTable) return;\n",
              "\n",
              "          const docLinkHtml = 'Like what you see? Visit the ' +\n",
              "            '<a target=\"_blank\" href=https://colab.research.google.com/notebooks/data_table.ipynb>data table notebook</a>'\n",
              "            + ' to learn more about interactive tables.';\n",
              "          element.innerHTML = '';\n",
              "          dataTable['output_type'] = 'display_data';\n",
              "          await google.colab.output.renderOutput(dataTable, element);\n",
              "          const docLink = document.createElement('div');\n",
              "          docLink.innerHTML = docLinkHtml;\n",
              "          element.appendChild(docLink);\n",
              "        }\n",
              "      </script>\n",
              "    </div>\n",
              "  </div>\n",
              "  "
            ]
          },
          "metadata": {},
          "execution_count": 7
        }
      ]
    },
    {
      "cell_type": "code",
      "source": [
        "X_test = test_df.drop(\"id\",axis=1)\n"
      ],
      "metadata": {
        "id": "aza_0rQG6mYm"
      },
      "execution_count": null,
      "outputs": []
    },
    {
      "cell_type": "code",
      "metadata": {
        "id": "3KgVJsGAG-19"
      },
      "source": [
        "X_train=train_df.drop(\"Potability\",axis=1)\n",
        "y_train=train_df[\"Potability\"]\n",
        "\n"
      ],
      "execution_count": null,
      "outputs": []
    },
    {
      "cell_type": "markdown",
      "metadata": {
        "id": "emp6PPE1QmYp"
      },
      "source": [
        "\n",
        "\n",
        "---\n",
        "\n"
      ]
    },
    {
      "cell_type": "markdown",
      "source": [
        "<p align = \"justify\"> Since we have noticed in a previous step that some columns contain NaN values, we would need to impute them (fill the missing values with the mean/median/etc.) \n",
        "</p>"
      ],
      "metadata": {
        "id": "CTjvEcpJgWwT"
      }
    },
    {
      "cell_type": "markdown",
      "metadata": {
        "id": "aSGNeAFZv0hN"
      },
      "source": [
        "<mark>Task: Fit a SimpleImputer on X_train and use it to transform X_train and X_test (The X_train and X_test variables should contain the transformed output after this task) .</mark>"
      ]
    },
    {
      "cell_type": "code",
      "metadata": {
        "id": "bILAb8a-v0hN"
      },
      "source": [
        "my_imputer = SimpleImputer()\n",
        "my_imputer.fit(X_train)\n",
        "X_train= my_imputer.transform(X_train)\n",
        "X_test = my_imputer.transform(X_test)"
      ],
      "execution_count": null,
      "outputs": []
    },
    {
      "cell_type": "markdown",
      "metadata": {
        "id": "dtaxJrALv0hO"
      },
      "source": [
        "---"
      ]
    },
    {
      "cell_type": "markdown",
      "metadata": {
        "id": "I8B13MJZlP13"
      },
      "source": [
        "<p align = \"justify\"> In the next step, we will scale our features to ensure they have the same scale. Featue scaling is an important step to perform before giving your data to the model, since different attributes may be measured on different scales and may have different ranges of values (e.g. room temprature in celsius, weight in KG, distance in meters). \n",
        "\n",
        "Notice how SVMs rely on the sample's location in space. without scaling, some features will have a higher impact on that distance than others.\n",
        "</p>"
      ]
    },
    {
      "cell_type": "markdown",
      "metadata": {
        "id": "x_odrXObpKy4"
      },
      "source": [
        "<mark> Task Fit a MinMaxScaler on X_train and use it to transform X_train and X_test (The X_train and X_test variables should contain the transformed output after this task)."
      ]
    },
    {
      "cell_type": "code",
      "metadata": {
        "id": "MspUZICoLCno"
      },
      "source": [
        "scaler = MinMaxScaler()\n",
        "scaler.fit(X_train)\n",
        "X_train= scaler.transform(X_train)\n",
        "X_test = scaler.transform(X_test)"
      ],
      "execution_count": null,
      "outputs": []
    },
    {
      "cell_type": "markdown",
      "metadata": {
        "id": "CCziRmBzRLLA"
      },
      "source": [
        "---"
      ]
    },
    {
      "cell_type": "markdown",
      "metadata": {
        "id": "l0lwcaAbuh8N"
      },
      "source": [
        "## Model\n",
        "\n",
        "Remember the import statement we used previously: \"`from sklearn.svm import SVC`\". This imports [sklearn's own SVM implementation](https://scikit-learn.org/stable/modules/generated/sklearn.svm.SVC.html).\n",
        "\n",
        "<p align = \"justify\">SVC stands for support vector classifier, which is an SVM that is used in calssification. Its constructor takes many optional parameters, the most important of them are:\n",
        "\n",
        "*   C\n",
        "  *   The regularization parameter. It is associated with the penalty of misclassified samples. a smaller C means that the penalty of misclassification is small which allows for a bigger margin between classes at the expense of a greater number of misclassifications. on the other hand, a larger C, means that the model tolerates misclassified samples less. Theoritically, when C approaches $\\infty$, the SVM becomes a hard margin SVM, meaning that no misclassification is allowed. In this case, our model will break if the data is not 100% linearly separable. The optimal C is determined by [cross-validation](https://www.geeksforgeeks.org/cross-validation-machine-learning/) or trial and error.\n",
        "<center><img src=\"https://www.learnopencv.com/wp-content/uploads/2018/07/svm-parameter-c-example.png\" width=600/>\n",
        "<br> \n",
        "Figure: Small C value vs large C value.\n",
        "</center>\n",
        "\n",
        "\n",
        "\n",
        "*   kernel\n",
        "  *   The choice of kernel function to use. Kernel functions are used to map the original dataset (linear/nonlinear) into a higher dimensional space to make it a linear dataset. The choices of kernel functions in sklearn.svm.SVC are:\n",
        "      *   linear\n",
        "          *   The normal linear function used with linearly separable data.\n",
        "      *   poly\n",
        "          *   the polynomial kernel. Higher degree polynomial kernels allow a more flexible decision boundary. the \"degree\" hyperparameter lets you specify the polynomial degree. \n",
        "<center><img src=\"https://www.researchgate.net/profile/Asa_Ben-Hur/publication/41896604/figure/fig10/AS:667041182785544@1536046419481/The-effect-of-the-degree-of-a-polynomial-kernel-Higher-degree-polynomial-kernels-allow.png\" width=600/>\n",
        "<br> \n",
        "Figure: The effect of the polynomial's degree on decision boundaries.\n",
        "</center>\n",
        "\n",
        "      *   rbf\n",
        "          *   The Radial Basis Function Kernel is the most popular kernel used, and it is the default kernel used in sklearn's SVC. It projects the input feature space onto an infinite feature space due to the infinite series expansion of the exponential function.\n",
        "<center>\n",
        "<img src=\"https://i.imgur.com/9GnrfWa.png\" width=600/>\n",
        "</center>\n",
        "\n",
        "      *   sigmoid\n",
        "          * Similar to the sigmoid function used in logistic regression. It is the least used kernel in SVMs. an SVM model using a sigmoid kernel function is equivalent to a two-layer, perceptron neural network.\n",
        "<center><img src=\"https://www.eric-kim.net/eric-kim-net/posts/1/imgs/nonsep_svm_sigmoid.png\" width=600/>\n",
        "</center>\n",
        "\n",
        "*   gamma\n",
        "      *   Used with non linear kernels to decide how far the influence of a single training example reaches. With low values meaning 'far', and high values meaning 'close'. This has a considerable impact on the shape of the decision boundary.\n",
        "<center><img src=\"https://vitalflux.com/wp-content/uploads/2020/07/C-Values-Page-3-1024x832.png\" width=600/>\n",
        "<br> \n",
        "Figure: The effect of different gamma values on a decision boundary.\n",
        "</center>\n",
        "</p>"
      ]
    },
    {
      "cell_type": "markdown",
      "metadata": {
        "id": "CaI-kvfWWkeX"
      },
      "source": [
        "Now that you are familiar with the model's hyperparameters. it is time for you to finally experiment with your own model. \n",
        "\n",
        "Before you start experimenting with your model, there is a few important points to consider.\n",
        "\n",
        "\n",
        "\n",
        "1.   The classes are highly imbalanced (Bad water bodies are much more than good water bodies).\n",
        "\n",
        "2.   As learned in the previous session, tuning your hyperparameters on the test set will overfit your model on the test set! Therefore **cross-validation** is important.\n",
        "\n",
        "3.   Using [`KFold`](https://scikit-learn.org/stable/modules/generated/sklearn.model_selection.KFold.html) can also misleading results when the dataset is [imbalanced](https://machinelearningmastery.com/what-is-imbalanced-classification/). The reason is that it picks the samples for the training and validation sets randomly. Therefore, the sampling will be biased towards the dominant class. Therefore the use of [`StratifiedKFold`](https://scikit-learn.org/stable/modules/generated/sklearn.model_selection.StratifiedKFold.html) is a must. It preserves the distribution of the classes. Learn about thr difference [here](https://machinelearningmastery.com/cross-validation-for-imbalanced-classification/)."
      ]
    },
    {
      "cell_type": "markdown",
      "metadata": {
        "id": "5cX_C-sVxaeS"
      },
      "source": [
        "The next cell initializes your cross-validator. It does 5-fold cross validation. It shuffles the data before splitting. The random state is fixed for reproducible results."
      ]
    },
    {
      "cell_type": "code",
      "metadata": {
        "id": "Ikq3zK2IxZSC"
      },
      "source": [
        "skf = StratifiedKFold(n_splits=5, random_state=0, shuffle=True)"
      ],
      "execution_count": null,
      "outputs": []
    },
    {
      "cell_type": "markdown",
      "metadata": {
        "id": "PvPw3_1wwIuI"
      },
      "source": [
        "<mark> Task: Train a basic SVC without any hyperparameter tuning, and get the average cross-validation accuracy.\n",
        "\n",
        "**Hint:** Learn how to perform cross-validation from [here](https://www.geeksforgeeks.org/stratified-k-fold-cross-validation/)."
      ]
    },
    {
      "cell_type": "code",
      "metadata": {
        "id": "2JrdEPlWE9-F",
        "colab": {
          "base_uri": "https://localhost:8080/"
        },
        "outputId": "e8fa50a7-d687-480b-d752-50e02d645ebb"
      },
      "source": [
        "model_basic = SVC()\n",
        "\n",
        "scores = []\n",
        "for train_index, test_index in skf.split(X_train, y_train):\n",
        "  X_cv_train, X_cv_valid = X_train[train_index], X_train[test_index]\n",
        "  y_cv_train, y_cv_valid = y_train[train_index], y_train[test_index]\n",
        "\n",
        "  #TODO: fit your model \n",
        "  model_basic.fit(X_cv_train, y_cv_train)\n",
        "\n",
        "  #TODO: get the accuracy of your model on valid data and append it to scores\n",
        "  scores.append(model_basic.score(X_cv_valid, y_cv_valid))\n",
        "\n",
        "print(\"Your model's validation accuracy is %2.3f%%\" % ((sum(scores)/5)*100))"
      ],
      "execution_count": null,
      "outputs": [
        {
          "output_type": "stream",
          "name": "stdout",
          "text": [
            "Your model's validation accuracy is 65.983%\n"
          ]
        }
      ]
    },
    {
      "cell_type": "markdown",
      "metadata": {
        "id": "Rk4MG4bQyurc"
      },
      "source": [
        "<mark> Task: Find the optimal set of hyperparameters using either manual search, or using one of the methods mentioned in the sessions. Train a model using these optimal hyperparameters and get its average cross-validation accuracy. "
      ]
    },
    {
      "cell_type": "code",
      "source": [
        "\n",
        "from sklearn.model_selection import GridSearchCV\n",
        "  \n",
        "# defining parameter range\n",
        "param_grid = {'C': [0.1, 1, 10, 100, 1000], \n",
        "              'gamma': [1, 0.1, 0.01, 0.001, 0.0001],\n",
        "              'kernel': ['rbf']} \n",
        "  \n",
        "grid = GridSearchCV(model_basic, param_grid, refit = True, verbose = 3)\n",
        "  \n",
        "# fitting the model for grid search\n",
        "grid.fit(X_cv_train, y_cv_train)\n",
        "\n",
        "# print best parameter after tuning\n",
        "print(grid.best_params_)\n",
        "  \n",
        "# print how our model looks after hyper-parameter tuning\n",
        "print(grid.best_estimator_)"
      ],
      "metadata": {
        "colab": {
          "base_uri": "https://localhost:8080/"
        },
        "id": "_XjKTBjEFLAJ",
        "outputId": "a2a2cbc8-d993-47e4-b761-8997b6cd1309"
      },
      "execution_count": null,
      "outputs": [
        {
          "output_type": "stream",
          "name": "stdout",
          "text": [
            "Fitting 5 folds for each of 25 candidates, totalling 125 fits\n",
            "[CV 1/5] END ........C=0.1, gamma=1, kernel=rbf;, score=0.610 total time=   0.1s\n",
            "[CV 2/5] END ........C=0.1, gamma=1, kernel=rbf;, score=0.610 total time=   0.1s\n",
            "[CV 3/5] END ........C=0.1, gamma=1, kernel=rbf;, score=0.610 total time=   0.1s\n",
            "[CV 4/5] END ........C=0.1, gamma=1, kernel=rbf;, score=0.610 total time=   0.1s\n",
            "[CV 5/5] END ........C=0.1, gamma=1, kernel=rbf;, score=0.608 total time=   0.1s\n",
            "[CV 1/5] END ......C=0.1, gamma=0.1, kernel=rbf;, score=0.610 total time=   0.1s\n",
            "[CV 2/5] END ......C=0.1, gamma=0.1, kernel=rbf;, score=0.610 total time=   0.1s\n",
            "[CV 3/5] END ......C=0.1, gamma=0.1, kernel=rbf;, score=0.610 total time=   0.1s\n",
            "[CV 4/5] END ......C=0.1, gamma=0.1, kernel=rbf;, score=0.610 total time=   0.1s\n",
            "[CV 5/5] END ......C=0.1, gamma=0.1, kernel=rbf;, score=0.608 total time=   0.1s\n",
            "[CV 1/5] END .....C=0.1, gamma=0.01, kernel=rbf;, score=0.610 total time=   0.1s\n",
            "[CV 2/5] END .....C=0.1, gamma=0.01, kernel=rbf;, score=0.610 total time=   0.1s\n",
            "[CV 3/5] END .....C=0.1, gamma=0.01, kernel=rbf;, score=0.610 total time=   0.2s\n",
            "[CV 4/5] END .....C=0.1, gamma=0.01, kernel=rbf;, score=0.610 total time=   0.1s\n",
            "[CV 5/5] END .....C=0.1, gamma=0.01, kernel=rbf;, score=0.608 total time=   0.1s\n",
            "[CV 1/5] END ....C=0.1, gamma=0.001, kernel=rbf;, score=0.610 total time=   0.1s\n",
            "[CV 2/5] END ....C=0.1, gamma=0.001, kernel=rbf;, score=0.610 total time=   0.2s\n",
            "[CV 3/5] END ....C=0.1, gamma=0.001, kernel=rbf;, score=0.610 total time=   0.1s\n",
            "[CV 4/5] END ....C=0.1, gamma=0.001, kernel=rbf;, score=0.610 total time=   0.1s\n",
            "[CV 5/5] END ....C=0.1, gamma=0.001, kernel=rbf;, score=0.608 total time=   0.1s\n",
            "[CV 1/5] END ...C=0.1, gamma=0.0001, kernel=rbf;, score=0.610 total time=   0.2s\n",
            "[CV 2/5] END ...C=0.1, gamma=0.0001, kernel=rbf;, score=0.610 total time=   0.1s\n",
            "[CV 3/5] END ...C=0.1, gamma=0.0001, kernel=rbf;, score=0.610 total time=   0.1s\n",
            "[CV 4/5] END ...C=0.1, gamma=0.0001, kernel=rbf;, score=0.610 total time=   0.1s\n",
            "[CV 5/5] END ...C=0.1, gamma=0.0001, kernel=rbf;, score=0.608 total time=   0.2s\n",
            "[CV 1/5] END ..........C=1, gamma=1, kernel=rbf;, score=0.627 total time=   0.2s\n",
            "[CV 2/5] END ..........C=1, gamma=1, kernel=rbf;, score=0.629 total time=   0.2s\n",
            "[CV 3/5] END ..........C=1, gamma=1, kernel=rbf;, score=0.619 total time=   0.2s\n",
            "[CV 4/5] END ..........C=1, gamma=1, kernel=rbf;, score=0.629 total time=   0.1s\n",
            "[CV 5/5] END ..........C=1, gamma=1, kernel=rbf;, score=0.624 total time=   0.2s\n",
            "[CV 1/5] END ........C=1, gamma=0.1, kernel=rbf;, score=0.610 total time=   0.2s\n",
            "[CV 2/5] END ........C=1, gamma=0.1, kernel=rbf;, score=0.610 total time=   0.2s\n",
            "[CV 3/5] END ........C=1, gamma=0.1, kernel=rbf;, score=0.610 total time=   0.3s\n",
            "[CV 4/5] END ........C=1, gamma=0.1, kernel=rbf;, score=0.610 total time=   0.2s\n",
            "[CV 5/5] END ........C=1, gamma=0.1, kernel=rbf;, score=0.608 total time=   0.2s\n",
            "[CV 1/5] END .......C=1, gamma=0.01, kernel=rbf;, score=0.610 total time=   0.2s\n",
            "[CV 2/5] END .......C=1, gamma=0.01, kernel=rbf;, score=0.610 total time=   0.2s\n",
            "[CV 3/5] END .......C=1, gamma=0.01, kernel=rbf;, score=0.610 total time=   0.1s\n",
            "[CV 4/5] END .......C=1, gamma=0.01, kernel=rbf;, score=0.610 total time=   0.1s\n",
            "[CV 5/5] END .......C=1, gamma=0.01, kernel=rbf;, score=0.608 total time=   0.1s\n",
            "[CV 1/5] END ......C=1, gamma=0.001, kernel=rbf;, score=0.610 total time=   0.2s\n",
            "[CV 2/5] END ......C=1, gamma=0.001, kernel=rbf;, score=0.610 total time=   0.2s\n",
            "[CV 3/5] END ......C=1, gamma=0.001, kernel=rbf;, score=0.610 total time=   0.2s\n",
            "[CV 4/5] END ......C=1, gamma=0.001, kernel=rbf;, score=0.610 total time=   0.2s\n",
            "[CV 5/5] END ......C=1, gamma=0.001, kernel=rbf;, score=0.608 total time=   0.2s\n",
            "[CV 1/5] END .....C=1, gamma=0.0001, kernel=rbf;, score=0.610 total time=   0.1s\n",
            "[CV 2/5] END .....C=1, gamma=0.0001, kernel=rbf;, score=0.610 total time=   0.1s\n",
            "[CV 3/5] END .....C=1, gamma=0.0001, kernel=rbf;, score=0.610 total time=   0.1s\n",
            "[CV 4/5] END .....C=1, gamma=0.0001, kernel=rbf;, score=0.610 total time=   0.1s\n",
            "[CV 5/5] END .....C=1, gamma=0.0001, kernel=rbf;, score=0.608 total time=   0.2s\n",
            "[CV 1/5] END .........C=10, gamma=1, kernel=rbf;, score=0.657 total time=   0.2s\n",
            "[CV 2/5] END .........C=10, gamma=1, kernel=rbf;, score=0.638 total time=   0.2s\n",
            "[CV 3/5] END .........C=10, gamma=1, kernel=rbf;, score=0.646 total time=   0.2s\n",
            "[CV 4/5] END .........C=10, gamma=1, kernel=rbf;, score=0.659 total time=   0.3s\n",
            "[CV 5/5] END .........C=10, gamma=1, kernel=rbf;, score=0.668 total time=   0.2s\n",
            "[CV 1/5] END .......C=10, gamma=0.1, kernel=rbf;, score=0.610 total time=   0.2s\n",
            "[CV 2/5] END .......C=10, gamma=0.1, kernel=rbf;, score=0.610 total time=   0.2s\n",
            "[CV 3/5] END .......C=10, gamma=0.1, kernel=rbf;, score=0.610 total time=   0.2s\n",
            "[CV 4/5] END .......C=10, gamma=0.1, kernel=rbf;, score=0.610 total time=   0.2s\n",
            "[CV 5/5] END .......C=10, gamma=0.1, kernel=rbf;, score=0.608 total time=   0.2s\n",
            "[CV 1/5] END ......C=10, gamma=0.01, kernel=rbf;, score=0.610 total time=   0.3s\n",
            "[CV 2/5] END ......C=10, gamma=0.01, kernel=rbf;, score=0.610 total time=   0.3s\n",
            "[CV 3/5] END ......C=10, gamma=0.01, kernel=rbf;, score=0.610 total time=   0.3s\n",
            "[CV 4/5] END ......C=10, gamma=0.01, kernel=rbf;, score=0.610 total time=   0.2s\n",
            "[CV 5/5] END ......C=10, gamma=0.01, kernel=rbf;, score=0.608 total time=   0.3s\n",
            "[CV 1/5] END .....C=10, gamma=0.001, kernel=rbf;, score=0.610 total time=   0.2s\n",
            "[CV 2/5] END .....C=10, gamma=0.001, kernel=rbf;, score=0.610 total time=   0.2s\n",
            "[CV 3/5] END .....C=10, gamma=0.001, kernel=rbf;, score=0.610 total time=   0.2s\n",
            "[CV 4/5] END .....C=10, gamma=0.001, kernel=rbf;, score=0.610 total time=   0.2s\n",
            "[CV 5/5] END .....C=10, gamma=0.001, kernel=rbf;, score=0.608 total time=   0.2s\n",
            "[CV 1/5] END ....C=10, gamma=0.0001, kernel=rbf;, score=0.610 total time=   0.2s\n",
            "[CV 2/5] END ....C=10, gamma=0.0001, kernel=rbf;, score=0.610 total time=   0.1s\n",
            "[CV 3/5] END ....C=10, gamma=0.0001, kernel=rbf;, score=0.610 total time=   0.1s\n",
            "[CV 4/5] END ....C=10, gamma=0.0001, kernel=rbf;, score=0.610 total time=   0.1s\n",
            "[CV 5/5] END ....C=10, gamma=0.0001, kernel=rbf;, score=0.608 total time=   0.1s\n",
            "[CV 1/5] END ........C=100, gamma=1, kernel=rbf;, score=0.678 total time=   0.4s\n",
            "[CV 2/5] END ........C=100, gamma=1, kernel=rbf;, score=0.646 total time=   0.3s\n",
            "[CV 3/5] END ........C=100, gamma=1, kernel=rbf;, score=0.673 total time=   0.5s\n",
            "[CV 4/5] END ........C=100, gamma=1, kernel=rbf;, score=0.678 total time=   0.3s\n",
            "[CV 5/5] END ........C=100, gamma=1, kernel=rbf;, score=0.676 total time=   0.3s\n",
            "[CV 1/5] END ......C=100, gamma=0.1, kernel=rbf;, score=0.635 total time=   0.2s\n",
            "[CV 2/5] END ......C=100, gamma=0.1, kernel=rbf;, score=0.638 total time=   0.2s\n",
            "[CV 3/5] END ......C=100, gamma=0.1, kernel=rbf;, score=0.624 total time=   0.3s\n",
            "[CV 4/5] END ......C=100, gamma=0.1, kernel=rbf;, score=0.624 total time=   0.2s\n",
            "[CV 5/5] END ......C=100, gamma=0.1, kernel=rbf;, score=0.640 total time=   0.1s\n",
            "[CV 1/5] END .....C=100, gamma=0.01, kernel=rbf;, score=0.610 total time=   0.1s\n",
            "[CV 2/5] END .....C=100, gamma=0.01, kernel=rbf;, score=0.610 total time=   0.1s\n",
            "[CV 3/5] END .....C=100, gamma=0.01, kernel=rbf;, score=0.610 total time=   0.1s\n",
            "[CV 4/5] END .....C=100, gamma=0.01, kernel=rbf;, score=0.610 total time=   0.1s\n",
            "[CV 5/5] END .....C=100, gamma=0.01, kernel=rbf;, score=0.608 total time=   0.1s\n",
            "[CV 1/5] END ....C=100, gamma=0.001, kernel=rbf;, score=0.610 total time=   0.1s\n",
            "[CV 2/5] END ....C=100, gamma=0.001, kernel=rbf;, score=0.610 total time=   0.1s\n",
            "[CV 3/5] END ....C=100, gamma=0.001, kernel=rbf;, score=0.610 total time=   0.1s\n",
            "[CV 4/5] END ....C=100, gamma=0.001, kernel=rbf;, score=0.610 total time=   0.1s\n",
            "[CV 5/5] END ....C=100, gamma=0.001, kernel=rbf;, score=0.608 total time=   0.1s\n",
            "[CV 1/5] END ...C=100, gamma=0.0001, kernel=rbf;, score=0.610 total time=   0.1s\n",
            "[CV 2/5] END ...C=100, gamma=0.0001, kernel=rbf;, score=0.610 total time=   0.1s\n",
            "[CV 3/5] END ...C=100, gamma=0.0001, kernel=rbf;, score=0.610 total time=   0.1s\n",
            "[CV 4/5] END ...C=100, gamma=0.0001, kernel=rbf;, score=0.610 total time=   0.1s\n",
            "[CV 5/5] END ...C=100, gamma=0.0001, kernel=rbf;, score=0.608 total time=   0.1s\n",
            "[CV 1/5] END .......C=1000, gamma=1, kernel=rbf;, score=0.687 total time=   0.6s\n",
            "[CV 2/5] END .......C=1000, gamma=1, kernel=rbf;, score=0.629 total time=   0.8s\n",
            "[CV 3/5] END .......C=1000, gamma=1, kernel=rbf;, score=0.657 total time=   0.6s\n",
            "[CV 4/5] END .......C=1000, gamma=1, kernel=rbf;, score=0.654 total time=   0.6s\n",
            "[CV 5/5] END .......C=1000, gamma=1, kernel=rbf;, score=0.657 total time=   0.6s\n",
            "[CV 1/5] END .....C=1000, gamma=0.1, kernel=rbf;, score=0.662 total time=   0.2s\n",
            "[CV 2/5] END .....C=1000, gamma=0.1, kernel=rbf;, score=0.654 total time=   0.2s\n",
            "[CV 3/5] END .....C=1000, gamma=0.1, kernel=rbf;, score=0.649 total time=   0.2s\n",
            "[CV 4/5] END .....C=1000, gamma=0.1, kernel=rbf;, score=0.657 total time=   0.2s\n",
            "[CV 5/5] END .....C=1000, gamma=0.1, kernel=rbf;, score=0.662 total time=   0.2s\n",
            "[CV 1/5] END ....C=1000, gamma=0.01, kernel=rbf;, score=0.610 total time=   0.1s\n",
            "[CV 2/5] END ....C=1000, gamma=0.01, kernel=rbf;, score=0.610 total time=   0.1s\n",
            "[CV 3/5] END ....C=1000, gamma=0.01, kernel=rbf;, score=0.610 total time=   0.1s\n",
            "[CV 4/5] END ....C=1000, gamma=0.01, kernel=rbf;, score=0.610 total time=   0.1s\n",
            "[CV 5/5] END ....C=1000, gamma=0.01, kernel=rbf;, score=0.608 total time=   0.1s\n",
            "[CV 1/5] END ...C=1000, gamma=0.001, kernel=rbf;, score=0.610 total time=   0.2s\n",
            "[CV 2/5] END ...C=1000, gamma=0.001, kernel=rbf;, score=0.610 total time=   0.2s\n",
            "[CV 3/5] END ...C=1000, gamma=0.001, kernel=rbf;, score=0.610 total time=   0.2s\n",
            "[CV 4/5] END ...C=1000, gamma=0.001, kernel=rbf;, score=0.610 total time=   0.2s\n",
            "[CV 5/5] END ...C=1000, gamma=0.001, kernel=rbf;, score=0.608 total time=   0.1s\n",
            "[CV 1/5] END ..C=1000, gamma=0.0001, kernel=rbf;, score=0.610 total time=   0.1s\n",
            "[CV 2/5] END ..C=1000, gamma=0.0001, kernel=rbf;, score=0.610 total time=   0.1s\n",
            "[CV 3/5] END ..C=1000, gamma=0.0001, kernel=rbf;, score=0.610 total time=   0.1s\n",
            "[CV 4/5] END ..C=1000, gamma=0.0001, kernel=rbf;, score=0.610 total time=   0.1s\n",
            "[CV 5/5] END ..C=1000, gamma=0.0001, kernel=rbf;, score=0.608 total time=   0.1s\n",
            "{'C': 100, 'gamma': 1, 'kernel': 'rbf'}\n",
            "SVC(C=100, gamma=1)\n"
          ]
        }
      ]
    },
    {
      "cell_type": "code",
      "source": [
        "from sklearn.svm import SVC\n",
        "from sklearn.model_selection import StratifiedKFold\n",
        "\n",
        "#TODO: Initialize your model and do hyperparameter tuning here\n",
        "model_tuned = SVC(C=100, kernel='rbf', gamma= 1)\n",
        "\n",
        "\n",
        "scores = []\n",
        "for train_index, test_index in skf.split(X_train, y_train):\n",
        "  X_cv_train, X_cv_valid = X_train[train_index], X_train[test_index]\n",
        "  y_cv_train, y_cv_valid = y_train[train_index], y_train[test_index]\n",
        "\n",
        "    #TODO: fit your model \n",
        "  model_basic.fit(X_cv_train, y_cv_train)\n",
        "\n",
        "  #TODO: get the accuracy of your model on valid data and append it to scores\n",
        "  scores.append(model_basic.score(X_cv_valid, y_cv_valid))\n",
        "\n",
        "\n",
        "print(\"Your model's validation accuracy is %2.3f%%\" % ((sum(scores)/5)*100))"
      ],
      "metadata": {
        "id": "HpMccEqhy1GE",
        "colab": {
          "base_uri": "https://localhost:8080/"
        },
        "outputId": "21600649-ac87-4c6b-82c1-17cd55b7fe02"
      },
      "execution_count": null,
      "outputs": [
        {
          "output_type": "stream",
          "name": "stdout",
          "text": [
            "Your model's validation accuracy is 65.983%\n"
          ]
        }
      ]
    },
    {
      "cell_type": "markdown",
      "metadata": {
        "id": "nBYkOnzyqSsE"
      },
      "source": [
        "What does the accuracy tell us about the basic model and the tuned model? Does it make sense for the tuned model to have a worse accuracy than the basic model? Accuracy alone won't be enough espescially since this dataset has class imbalance. We'll need other metrics."
      ]
    },
    {
      "cell_type": "markdown",
      "metadata": {
        "id": "WkUbhldeTJYs"
      },
      "source": [
        "---"
      ]
    },
    {
      "cell_type": "markdown",
      "metadata": {
        "id": "WP6K8ZXny9ib"
      },
      "source": [
        "## Model Evaluation\n",
        "\n",
        "Now that you've built and tuned your model, you will now assess how well your model is able to generalize. First, you will take a look at the confusion matrix, followed by precision & recall."
      ]
    },
    {
      "cell_type": "markdown",
      "metadata": {
        "id": "K25Lj4EF9AwX"
      },
      "source": [
        "### Confusion Matrix\n",
        "\n",
        "The confusion matrix will help you undestand the performance of your classification model on the test data. It is simple to understand a confusion matrix, but there is some terminology that you need to know first.\n",
        "\n",
        "In binary classification, wherein our output is YES/NO (good/bad in our case), we say that this prediction is called:\n",
        "*   True positive(TN)\n",
        "    *   If we predicted YES(Good), and the ground truth turns out to be YES\n",
        "*   False positive(FP)\n",
        "    *   We predicted YES, and the ground truth is a NO(Bad) (Also known as a \"Type I error\")\n",
        "*   True negative(TN)\n",
        "    *   We predicted NO, and the ground truth is NO\n",
        "*   False negative(FN)\n",
        "    *    We predicted NO, and the ground truth is YES (Also known as a \"Type II error\")\n"
      ]
    },
    {
      "cell_type": "markdown",
      "metadata": {
        "id": "Fqy1faCbD6jo"
      },
      "source": [
        "<mark> Task: Predict the output array given the test input array (return an array of predicted classes {\"Good\", \"Bad\"} for the test set). Repeat this for both models, the basic and the tuned."
      ]
    },
    {
      "cell_type": "code",
      "metadata": {
        "id": "4vVe9NwVEDk5"
      },
      "source": [
        "\n",
        "model_basic = SVC( )\n",
        "\n",
        "model_tuned = SVC(C=100, kernel='rbf', gamma= 1)\n",
        "\n",
        "\n",
        "#TODO: Use train_test_split to split X_train and y_train into X_cv_train, X_cv_valid, y_cv_train, y_cv_valid\n",
        "#Use a test_size of 0.3 and a random state of 0\n",
        "X_cv_train, X_cv_test,y_cv_train, y_cv_test = train_test_split(X_train,y_train,random_state=0,test_size=0.25, shuffle=True)\n",
        "  \n",
        "\n",
        "#TODO: Fit the basic model on X_cv_train and y_cv_train\n",
        "model_basic.fit(X_cv_train,y_cv_train)\n",
        "#TODO: Fit the tuned model on X_cv_train and y_cv_train\n",
        "model_tuned.fit(X_cv_train,y_cv_train)\n",
        "\n",
        "pred_basic = model_basic.predict(X_cv_valid)\n",
        "pred_tuned = model_tuned.predict(X_cv_valid)"
      ],
      "execution_count": null,
      "outputs": []
    },
    {
      "cell_type": "markdown",
      "metadata": {
        "id": "71UM7gSJEoUi"
      },
      "source": [
        "<mark> Task: Generate the 2x2 confusion matrix and visualize it for both models. "
      ]
    },
    {
      "cell_type": "code",
      "metadata": {
        "id": "MGh8UcQ0Ewzp",
        "colab": {
          "base_uri": "https://localhost:8080/",
          "height": 298
        },
        "outputId": "77d108eb-2d82-474a-8cab-0aff8fedccee"
      },
      "source": [
        "#TODO: Compute the metrics.confusion_matrix using y_cv_valid and pred_basic\n",
        "conf_basic = metrics.confusion_matrix(y_cv_valid,pred_basic)\n",
        "\n",
        "\n",
        "#The following code plots the confusion matrix\n",
        "confusion_df = pd.DataFrame(conf_basic, ['Bad', 'Good'], ['Bad', 'Good'])\n",
        "confusion_df.index.name = 'Actual'\n",
        "confusion_df.columns.name = 'Predicted'\n",
        "sns.set(font_scale=1.5)\n",
        "sns.heatmap(confusion_df,cmap=\"vlag\", annot=True,annot_kws={\"size\": 20}, fmt='g')\n",
        "plt.show()"
      ],
      "execution_count": null,
      "outputs": [
        {
          "output_type": "display_data",
          "data": {
            "text/plain": [
              "<Figure size 432x288 with 2 Axes>"
            ],
            "image/png": "[encoded data removed]"
          },
          "metadata": {}
        }
      ]
    },
    {
      "cell_type": "code",
      "metadata": {
        "id": "wsWgO3EiFJvD",
        "colab": {
          "base_uri": "https://localhost:8080/",
          "height": 298
        },
        "outputId": "c830c3c7-0657-4cca-ba5a-30d894289d24"
      },
      "source": [
        "#TODO: Compute the metrics.confusion_matrix using y_cv_valid and pred_tuned\n",
        "\n",
        "conf_tuned = metrics.confusion_matrix(y_cv_valid,pred_tuned)\n",
        "\n",
        "#The following code plots the confusion matrix\n",
        "confusion_df = pd.DataFrame(conf_tuned, ['Bad', 'Good'], ['Bad', 'Good'])\n",
        "confusion_df.index.name = 'Actual'\n",
        "confusion_df.columns.name = 'Predicted'\n",
        "sns.set(font_scale=1.5)\n",
        "sns.heatmap(confusion_df,cmap=\"vlag\", annot=True,annot_kws={\"size\": 20}, fmt='g')\n",
        "plt.show()"
      ],
      "execution_count": null,
      "outputs": [
        {
          "output_type": "display_data",
          "data": {
            "text/plain": [
              "<Figure size 432x288 with 2 Axes>"
            ],
            "image/png": "[encoded data removed]"
          },
          "metadata": {}
        }
      ]
    },
    {
      "cell_type": "markdown",
      "metadata": {
        "id": "8vn7MxF8Tjww"
      },
      "source": [
        "---"
      ]
    },
    {
      "cell_type": "markdown",
      "metadata": {
        "id": "y0N2uaiYKr8b"
      },
      "source": [
        "We can see the correctly labeled samples (diagonal), and the incorrectly labeled samples (anti-diagonal). Bad water variants greatly outnunmber the good ones. We can see that the dataset is imbalanced (bad water variants are more than good ones). This is reflected in the basic model's behaviour. It is more inclined to predict water as bad water. Therefore, most of its misclassifications are predicting good water as bad (false negatives). The tuned model is clearly better at predicting! It does a reasonable job in predicting good water. The misclassifications are not as skewed."
      ]
    },
    {
      "cell_type": "markdown",
      "metadata": {
        "id": "iXsosp2XC1go"
      },
      "source": [
        "## Precision & Recall\n",
        "\n"
      ]
    },
    {
      "cell_type": "markdown",
      "metadata": {
        "id": "D8KikVSg31Uh"
      },
      "source": [
        "To further ensure that the tuned model is better, we will use **precision** and **recall** for rach class. They are a measure of how accurately our model is able to identify the relevant data.\n",
        "\n",
        "### Precision\n",
        "\n",
        "Simply put, precision is the ratio between the true positives and all positive predictions. In other words, of all the times we predicted positive, how many times were we correct in our prediction?\n",
        "\n",
        "<center><img src=\"https://miro.medium.com/max/1360/1*ofhV4c92QGNRyfwjD3U5xA.png\" width=40%/></center>\n",
        "\n",
        "### Recall\n",
        "\n",
        "Recall is the ratio of true positives to the total samples that are supposed to be positive. In other words, how many positives did we get correctly. \n",
        "\n",
        "<center><img src=\"https://miro.medium.com/max/1044/1*I0Yd-o2yQsHBRKFbf0rjpQ.png\" width=40%/></center>\n",
        "\n",
        "### F1 Score\n",
        "\n",
        "The F1 score is the [harmonic mean](https://www.investopedia.com/terms/h/harmonicaverage.asp) of both precision and recall. It is easier to work with. A good F1 score is indicative of a good Precision and a good Recall value as well.\n",
        "\n",
        "<center><img src=\"https://cdn.analyticsvidhya.com/wp-content/uploads/2019/09/f1score.png\" width=40%/></center>\n"
      ]
    },
    {
      "cell_type": "markdown",
      "metadata": {
        "id": "EuyuNYkfWTA8"
      },
      "source": [
        "\n",
        "<mark> Task: Print the output of classification_report() on both models to get the above metrics.\n",
        "\n",
        "Hint: Here is [how to read the classification report](https://datascience.stackexchange.com/questions/64441/how-to-interpret-classification-report-of-scikit-learn)."
      ]
    },
    {
      "cell_type": "code",
      "metadata": {
        "id": "AAit9En_WVZ5",
        "colab": {
          "base_uri": "https://localhost:8080/"
        },
        "outputId": "34f53566-e2f1-4bb5-f6a3-8cf86089dc9f"
      },
      "source": [
        "from sklearn.metrics import classification_report\n",
        "\n",
        "print(classification_report(y_cv_valid,pred_basic))"
      ],
      "execution_count": null,
      "outputs": [
        {
          "output_type": "stream",
          "name": "stdout",
          "text": [
            "              precision    recall  f1-score   support\n",
            "\n",
            "           0       0.67      0.96      0.79       279\n",
            "           1       0.79      0.25      0.38       179\n",
            "\n",
            "    accuracy                           0.68       458\n",
            "   macro avg       0.73      0.60      0.58       458\n",
            "weighted avg       0.71      0.68      0.63       458\n",
            "\n"
          ]
        }
      ]
    },
    {
      "cell_type": "code",
      "metadata": {
        "id": "tLN9U2SDWV1K",
        "colab": {
          "base_uri": "https://localhost:8080/"
        },
        "outputId": "1d80ebcb-1cb2-40ca-b9c7-4f690d3d1b35"
      },
      "source": [
        "print(classification_report(y_cv_valid,pred_tuned))"
      ],
      "execution_count": null,
      "outputs": [
        {
          "output_type": "stream",
          "name": "stdout",
          "text": [
            "              precision    recall  f1-score   support\n",
            "\n",
            "           0       0.69      0.94      0.79       279\n",
            "           1       0.77      0.34      0.47       179\n",
            "\n",
            "    accuracy                           0.70       458\n",
            "   macro avg       0.73      0.64      0.63       458\n",
            "weighted avg       0.72      0.70      0.67       458\n",
            "\n"
          ]
        }
      ]
    },
    {
      "cell_type": "markdown",
      "metadata": {
        "id": "wsx5QPYiWul5"
      },
      "source": [
        "For the good water, the recall of the tuned model should be better as it doesn't overfit as much as the basic model (it has less false negatives). The F1 score in general should be better for the tuned model than the basic model. Is that the case for accuracy too?\n",
        "\n",
        "This makes sense because the second model is better at predicting good water. This means it will improve the bad water precision due the reduction in false positives there. The recall of good water will naturally improve as well."
      ]
    },
    {
      "cell_type": "markdown",
      "metadata": {
        "id": "vaHlnzF_V073"
      },
      "source": [
        "---"
      ]
    },
    {
      "cell_type": "markdown",
      "source": [
        "\n",
        "<mark> Task: Read the sample submission file and set its Potability column to be the predictions of the tuned model on the X_test set. Save that to a csv using df.to_csv('file_name.csv', index=False) "
      ],
      "metadata": {
        "id": "8rsdz5ugzhUk"
      }
    },
    {
      "cell_type": "code",
      "source": [
        "submission = pd.read_csv(\"sample_submission.csv\")\n",
        "\n",
        "submission.Potability = model_tuned.predict(X_test)\n",
        "\n",
        "submission.to_csv(\"WaterPotability_submission.csv\", index=False)\n",
        "\n",
        "\n"
      ],
      "metadata": {
        "id": "0wnw_WUlAdhY"
      },
      "execution_count": null,
      "outputs": []
    },
    {
      "cell_type": "markdown",
      "source": [
        "[Form link](https://forms.gle/TQDADcLxtd51cgxBA)\n",
        "\n",
        "\n",
        "[Kaggle link](https://www.kaggle.com/t/db38a1e90aab4ed18202e131f22b5e94)\n"
      ],
      "metadata": {
        "id": "BBKg7gOzhYU0"
      }
    },
    {
      "cell_type": "markdown",
      "metadata": {
        "id": "fw34RZZ_0rKy"
      },
      "source": [
        "<p align = \"justify\"> Congratulations! you've made it to the end of the notebook. I hope it was helpful. I tried to make it as informative as possible without being overwhelming 😁. If you want to talk about anything i am always there to help ❤.</p>\n",
        "\n",
        "<center>\n",
        "\n",
        "# *“Set your goals high, and don’t stop till you get there.”* \n",
        "<!-- please tell me other ways to indent :( -->\n",
        "&emsp;&emsp;&emsp;&emsp;&emsp;&emsp;&emsp;&emsp;&emsp;&emsp;&emsp;&emsp;&emsp;&emsp;&emsp;&emsp;&emsp;&emsp;&emsp;&emsp;&emsp;&emsp;&emsp;&emsp;&emsp;&emsp;&emsp;&emsp;&emsp;&emsp;&emsp;&emsp;&emsp;&emsp;&emsp;&emsp;&emsp;&emsp;&emsp;&emsp;&emsp;&emsp;&emsp;&emsp;&emsp;&emsp;&emsp;&emsp;&emsp;&emsp;&emsp;&emsp;&emsp;&emsp;&emsp;&emsp;&emsp;&emsp;&emsp;&emsp;&emsp;&emsp;&emsp;&emsp;&emsp;&emsp;&emsp;&emsp;&emsp;&emsp;&emsp;&emsp;&emsp;&emsp;&emsp;&emsp;&emsp;&emsp;&emsp;&emsp;&emsp;&emsp;&emsp;&emsp;&emsp;&emsp;&emsp;&emsp;&emsp;&emsp;&emsp;&emsp;&emsp;&emsp;&emsp;&emsp;&emsp;&emsp;&emsp;&emsp;&emsp;&emsp;&emsp;&emsp;&emsp;*―Bo Jackson*\n",
        "</center>\n",
        "</br>\n",
        "\n",
        "<center>\n",
        "\n",
        "# *“Remember to stay hydrated.”* \n",
        "<!-- please tell me other ways to indent :( -->\n",
        "&emsp;&emsp;&emsp;&emsp;&emsp;&emsp;&emsp;&emsp;&emsp;&emsp;&emsp;&emsp;&emsp;&emsp;&emsp;&emsp;&emsp;&emsp;&emsp;&emsp;&emsp;&emsp;&emsp;&emsp;&emsp;&emsp;&emsp;&emsp;&emsp;&emsp;&emsp;&emsp;&emsp;&emsp;&emsp;&emsp;&emsp;&emsp;&emsp;&emsp;&emsp;&emsp;&emsp;&emsp;&emsp;&emsp;&emsp;&emsp;&emsp;&emsp;&emsp;&emsp;&emsp;&emsp;&emsp;&emsp;&emsp;&emsp;&emsp;&emsp;&emsp;&emsp;&emsp;&emsp;&emsp;&emsp;&emsp;&emsp;&emsp;&emsp;&emsp;&emsp;&emsp;&emsp;&emsp;&emsp;&emsp;&emsp;&emsp;&emsp;&emsp;&emsp;&emsp;&emsp;&emsp;&emsp;&emsp;&emsp;&emsp;&emsp;&emsp;&emsp;&emsp;&emsp;&emsp;&emsp;&emsp;&emsp;&emsp;&emsp;&emsp;&emsp;&emsp;&emsp;&emsp;*―Mohamed Mohey*\n",
        "</center>\n",
        "</br>\n",
        "\n",
        "\n",
        "\n",
        "<img src=\"https://genesiswatertech.com/wp-content/uploads/2019/07/Potable-Water.jpg\" width=100%/><br>\n",
        "</center>"
      ]
    },
    {
      "cell_type": "markdown",
      "metadata": {
        "id": "ExJSfonmi1w4"
      },
      "source": [
        "## Helpful References\n",
        "\n",
        "\n",
        "*   [sklearn.svm.SVC](https://scikit-learn.org/stable/modules/generated/sklearn.svm.SVC.html)\n",
        "*   [Understaing support vector machines](https://www.analyticsvidhya.com/blog/2017/09/understaing-support-vector-machine-example-code/)\n",
        "*   [geeks for geeks feature scaling](https://www.geeksforgeeks.org/ml-feature-scaling-part-2/)\n",
        "*   [kaggle notebook on feature scaling](https://www.kaggle.com/discdiver/guide-to-scaling-and-standardizing)\n",
        "*   [Everything You Wanted to Know about the Kernel Trick](https://www.eric-kim.net/eric-kim-net/posts/1/kernel_trick_blog_ekim_12_20_2017.pdf)\n",
        "*   [SVM Hyperparameters Explained with Visualizations](https://laptrinhx.com/svm-hyperparameters-explained-with-visualizations-2305934752/)\n",
        "*   [intuition on gamma](https://www.youtube.com/watch?v=m2a2K4lprQw)\n",
        "*   [A simple guide to confusion matrix terminology](https://www.dataschool.io/simple-guide-to-confusion-matrix-terminology/)\n",
        "*   [Precision vs. Recall – An Intuitive Guide for Every Machine Learning Person](https://www.analyticsvidhya.com/blog/2020/09/precision-recall-machine-learning/)\n",
        "*   [AUC-ROC Curve in Machine Learning Clearly Explained](https://www.analyticsvidhya.com/blog/2020/06/auc-roc-curve-machine-learning/)\n"
      ]
    }
  ],
  "metadata": {
    "kernelspec": {
      "display_name": "Python 3",
      "language": "python",
      "name": "python3"
    },
    "language_info": {
      "codemirror_mode": {
        "name": "ipython",
        "version": 3
      },
      "file_extension": ".py",
      "mimetype": "text/x-python",
      "name": "python",
      "nbconvert_exporter": "python",
      "pygments_lexer": "ipython3",
      "version": "3.10.6"
    },
    "nav_menu": {},
    "toc": {
      "navigate_menu": true,
      "number_sections": true,
      "sideBar": true,
      "threshold": 6,
      "toc_cell": false,
      "toc_section_display": "block",
      "toc_window_display": false
    },
    "colab": {
      "provenance": []
    }
  },
  "nbformat": 4,
  "nbformat_minor": 0
}